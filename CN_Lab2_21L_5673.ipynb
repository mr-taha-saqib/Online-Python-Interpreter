{
  "nbformat": 4,
  "nbformat_minor": 0,
  "metadata": {
    "colab": {
      "provenance": []
    },
    "kernelspec": {
      "name": "python3",
      "display_name": "Python 3"
    },
    "language_info": {
      "name": "python"
    }
  },
  "cells": [
    {
      "cell_type": "code",
      "source": [
        "#Q1\n",
        "s=str(input(\"Enter string: \"))\n",
        "s=s[::-1]\n",
        "print(s)\n"
      ],
      "metadata": {
        "colab": {
          "base_uri": "https://localhost:8080/"
        },
        "id": "SOWPDf5rjVy4",
        "outputId": "1418f353-1cf9-4da1-fbbd-04587b86f90d"
      },
      "execution_count": null,
      "outputs": [
        {
          "output_type": "stream",
          "name": "stdout",
          "text": [
            "Enter string: [\"H\",\"a\",\"n\",\"n\",\"a\",\"h\"]\n",
            "]\"h\",\"a\",\"n\",\"n\",\"a\",\"H\"[\n"
          ]
        }
      ]
    },
    {
      "cell_type": "code",
      "source": [
        "def reverse_st(s):\n",
        "  left = 0\n",
        "  right = len(s) - 1\n",
        "  while left < right:\n",
        "    s[left], s[right] = s[right], s[left]\n",
        "    left += 1\n",
        "    right -= 1\n",
        "  return s\n",
        "\n",
        "inp = list(input(\"String: \"))\n",
        "rev_string = reverse_st(inp)\n",
        "print(\"Reversed Str:\", \"\".join(rev_string))"
      ],
      "metadata": {
        "colab": {
          "base_uri": "https://localhost:8080/"
        },
        "id": "JSYgA_MUqan3",
        "outputId": "8a6d1c77-6496-4552-fa19-2ee560f12c99"
      },
      "execution_count": null,
      "outputs": [
        {
          "output_type": "stream",
          "name": "stdout",
          "text": [
            "String: [\"H\",\"a\",\"n\",\"n\",\"a\",\"h\"]\n",
            "Reversed Str: ]\"h\",\"a\",\"n\",\"n\",\"a\",\"H\"[\n"
          ]
        }
      ]
    },
    {
      "cell_type": "code",
      "source": [
        "#Q2\n",
        "def is_palindrome(s):\n",
        "    s = s.lower()\n",
        "    s = ''.join(c for c in s if c.isalnum()) #check only alpha numeric then join\n",
        "    return s == s[::-1]\n",
        "\n",
        "result = is_palindrome(\"A man, a plan, a canal: Panama\")\n",
        "print(result)"
      ],
      "metadata": {
        "colab": {
          "base_uri": "https://localhost:8080/"
        },
        "id": "wwiGVtdKiDtP",
        "outputId": "eeef5e33-998c-47b8-f5ce-70e656607df4"
      },
      "execution_count": null,
      "outputs": [
        {
          "output_type": "stream",
          "name": "stdout",
          "text": [
            "True\n"
          ]
        }
      ]
    },
    {
      "cell_type": "code",
      "execution_count": null,
      "metadata": {
        "colab": {
          "base_uri": "https://localhost:8080/"
        },
        "id": "XPqzOUKqfJ_u",
        "outputId": "a915d4c5-c4d3-4535-c140-1e3b2932faea"
      },
      "outputs": [
        {
          "output_type": "stream",
          "name": "stdout",
          "text": [
            "Enter number: 1\n",
            "1\n"
          ]
        }
      ],
      "source": [
        "#Q3\n",
        "def find_sqrt(n):\n",
        "    i = 1\n",
        "    while i * i <= n:\n",
        "        i += 1\n",
        "    return i - 1\n",
        "\n",
        "x = int(input(\"Enter number: \"))\n",
        "result = find_sqrt(x)\n",
        "print(result)"
      ]
    }
  ]
}